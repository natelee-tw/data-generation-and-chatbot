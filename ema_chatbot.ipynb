{
 "cells": [
  {
   "cell_type": "code",
   "execution_count": 1,
   "id": "73b4153d-8bd2-4b11-8349-a0bca4c0eaaf",
   "metadata": {},
   "outputs": [],
   "source": [
    "import requests\n",
    "import json\n",
    "from datetime import datetime\n",
    "\n",
    "# Define the endpoint URL\n",
    "\n",
    "def query_rag_endpoint(query):\n",
    "    url = \"https://itoc-sandbox-main-us-west-2.cloud.databricks.com/serving-endpoints/dbdemos_endpoint_ema_ema_rag_chatbot/invocations\"\n",
    "\n",
    "    # Your authentication token (replace 'YOUR_TOKEN' with the actual token)\n",
    "    auth_token = \"PUT IN YOUR OWN AUTH TOKEN\"\n",
    "\n",
    "    # Headers including the authentication token\n",
    "    headers = {\n",
    "        \"Authorization\": f\"Bearer {auth_token}\",\n",
    "        \"Content-Type\": \"application/json\"\n",
    "    }\n",
    "\n",
    "    # Example payload (replace with actual input data required by your model)\n",
    "    payload = {\n",
    "        \"dataframe_records\": [\n",
    "            {\n",
    "                \"query\": query\n",
    "            }\n",
    "        ]\n",
    "        }\n",
    "\n",
    "    # Convert payload to JSON format\n",
    "    data = json.dumps(payload)\n",
    "\n",
    "    # Send the POST request\n",
    "    response = requests.post(url, headers=headers, data=data)\n",
    "\n",
    "    # Check the response\n",
    "    if response.status_code == 200:\n",
    "        # Parse the JSON response\n",
    "        # prediction = response.json()\n",
    "        prediction = response.json()\n",
    "        # print(\"Prediction:\", prediction)\n",
    "        return prediction\n",
    "    else:\n",
    "        print(\"Failed to get prediction. Status code:\", response.status_code)\n",
    "        print(\"Response:\", response.text)"
   ]
  },
  {
   "cell_type": "code",
   "execution_count": 2,
   "id": "813117ce-43d3-41d2-88b2-92656d78c912",
   "metadata": {},
   "outputs": [
    {
     "name": "stdout",
     "output_type": "stream",
     "text": [
      "Running on local URL:  http://127.0.0.1:7860\n",
      "\n",
      "To create a public link, set `share=True` in `launch()`.\n"
     ]
    },
    {
     "data": {
      "text/html": [
       "<div><iframe src=\"http://127.0.0.1:7860/\" width=\"100%\" height=\"500\" allow=\"autoplay; camera; microphone; clipboard-read; clipboard-write;\" frameborder=\"0\" allowfullscreen></iframe></div>"
      ],
      "text/plain": [
       "<IPython.core.display.HTML object>"
      ]
     },
     "metadata": {},
     "output_type": "display_data"
    },
    {
     "data": {
      "text/plain": []
     },
     "execution_count": 2,
     "metadata": {},
     "output_type": "execute_result"
    }
   ],
   "source": [
    "import time\n",
    "import gradio as gr\n",
    "\n",
    "def reply_ema(message, _):\n",
    "  answer_json = query_rag_endpoint(message)\n",
    "  answer = answer_json[\"predictions\"][0]\n",
    "  for i in range(len(answer)):\n",
    "      time.sleep(0.005)\n",
    "      yield answer[: i+1]\n",
    "\n",
    "gr.ChatInterface(reply_ema).launch()"
   ]
  },
  {
   "cell_type": "code",
   "execution_count": 3,
   "id": "026f0784",
   "metadata": {},
   "outputs": [
    {
     "ename": "NameError",
     "evalue": "name 'ans' is not defined",
     "output_type": "error",
     "traceback": [
      "\u001b[0;31m---------------------------------------------------------------------------\u001b[0m",
      "\u001b[0;31mNameError\u001b[0m                                 Traceback (most recent call last)",
      "Cell \u001b[0;32mIn[3], line 1\u001b[0m\n\u001b[0;32m----> 1\u001b[0m all_predictions \u001b[38;5;241m=\u001b[39m \u001b[38;5;28mlist\u001b[39m(\u001b[43mans\u001b[49m)\n",
      "\u001b[0;31mNameError\u001b[0m: name 'ans' is not defined"
     ]
    }
   ],
   "source": [
    "all_predictions = list(ans)"
   ]
  },
  {
   "cell_type": "code",
   "execution_count": null,
   "id": "8f3e5ba9",
   "metadata": {},
   "outputs": [
    {
     "data": {
      "text/plain": [
       "[]"
      ]
     },
     "execution_count": 12,
     "metadata": {},
     "output_type": "execute_result"
    }
   ],
   "source": [
    "all_predictions"
   ]
  },
  {
   "cell_type": "code",
   "execution_count": null,
   "id": "a140c265",
   "metadata": {},
   "outputs": [],
   "source": []
  }
 ],
 "metadata": {
  "kernelspec": {
   "display_name": "Python 3 (ipykernel)",
   "language": "python",
   "name": "python3"
  },
  "language_info": {
   "codemirror_mode": {
    "name": "ipython",
    "version": 3
   },
   "file_extension": ".py",
   "mimetype": "text/x-python",
   "name": "python",
   "nbconvert_exporter": "python",
   "pygments_lexer": "ipython3",
   "version": "3.11.7"
  }
 },
 "nbformat": 4,
 "nbformat_minor": 5
}
